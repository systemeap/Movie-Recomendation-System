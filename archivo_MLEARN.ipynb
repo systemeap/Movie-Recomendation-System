{
 "cells": [
  {
   "cell_type": "code",
   "execution_count": 6,
   "metadata": {},
   "outputs": [
    {
     "name": "stderr",
     "output_type": "stream",
     "text": [
      "[nltk_data] Downloading package stopwords to\n",
      "[nltk_data]     C:\\Users\\Esteban\\AppData\\Roaming\\nltk_data...\n",
      "[nltk_data]   Unzipping corpora\\stopwords.zip.\n"
     ]
    },
    {
     "data": {
      "text/plain": [
       "True"
      ]
     },
     "execution_count": 6,
     "metadata": {},
     "output_type": "execute_result"
    }
   ],
   "source": [
    "import pandas as pd\n",
    "import numpy as np\n",
    "import scipy as sc\n",
    "import joblib\n",
    "from sklearn.feature_extraction.text import TfidfVectorizer\n",
    "import re\n",
    "from nltk.corpus import stopwords\n",
    "import nltk\n",
    "nltk.download('stopwords')"
   ]
  },
  {
   "cell_type": "code",
   "execution_count": 7,
   "metadata": {},
   "outputs": [],
   "source": [
    "# Creamos una función de preprocesamiento para el texto\n",
    "def preprocess_text(text):\n",
    "    # Eliminamos caracteres especiales y puntuación\n",
    "    text = re.sub(r'[^\\w\\s]', '', text)\n",
    "    # Convertimos a minúsculas\n",
    "    text = text.lower()\n",
    "    # Se eliminan stopwords\n",
    "    stop_words = set(stopwords.words('english'))\n",
    "    text = ' '.join(word for word in text.split() if word not in stop_words)\n",
    "    return text\n"
   ]
  },
  {
   "cell_type": "code",
   "execution_count": 11,
   "metadata": {},
   "outputs": [
    {
     "name": "stdout",
     "output_type": "stream",
     "text": [
      "0                   toy story\n",
      "1                     jumanji\n",
      "2            grumpier old men\n",
      "3              waiting exhale\n",
      "4        father bride part ii\n",
      "                 ...         \n",
      "45447              robin hood\n",
      "45448        century birthing\n",
      "45449                betrayal\n",
      "45450        satan triumphant\n",
      "45451                queerama\n",
      "Name: title_processed, Length: 45452, dtype: object\n"
     ]
    }
   ],
   "source": [
    "# Se carga el dataset\n",
    "df_ml = pd.read_csv('../Dataset_MVP/data_depurado.csv')\n",
    "# Aplicamos el preprocesamiento al título en base a la \"nube de palabras\"\n",
    "df_ml['title_processed'] = df_ml['title'].apply(preprocess_text)\n",
    "print(df_ml['title_processed'])"
   ]
  },
  {
   "cell_type": "code",
   "execution_count": 13,
   "metadata": {},
   "outputs": [
    {
     "name": "stdout",
     "output_type": "stream",
     "text": [
      "  (0, 20052)\t0.5339829726459521\n",
      "  (0, 21364)\t0.8454952305744796\n",
      "  (1, 11072)\t1.0\n",
      "  (2, 13472)\t0.44216862921234484\n",
      "  (2, 15049)\t0.4958159895054748\n",
      "  (2, 9018)\t0.7474312061261443\n",
      "  (3, 7148)\t0.7982678793737356\n",
      "  (3, 22598)\t0.6023025757542126\n",
      "  (4, 10212)\t0.5041106991164298\n",
      "  (4, 3055)\t0.6113284332071218\n",
      "  (4, 7398)\t0.6100409410759824\n",
      "  (5, 9508)\t1.0\n",
      "  (6, 18026)\t1.0\n",
      "  (7, 10020)\t0.8034375654663235\n",
      "  (7, 21230)\t0.5953890143406637\n",
      "  (8, 5518)\t0.5386812876228796\n",
      "  (8, 20231)\t0.8425096262743569\n",
      "  (9, 8741)\t1.0\n",
      "  (10, 16498)\t0.8158063391416447\n",
      "  (10, 964)\t0.5783251827616602\n",
      "  (11, 12568)\t0.6635345109196596\n",
      "  (11, 5493)\t0.4453138767029794\n",
      "  (11, 6301)\t0.6011800928460387\n",
      "  (12, 1871)\t1.0\n",
      "  (13, 14721)\t1.0\n",
      "  :\t:\n",
      "  (45438, 13227)\t0.47020458395233206\n",
      "  (45439, 5587)\t0.6895294168311971\n",
      "  (45439, 9503)\t0.7242576774356135\n",
      "  (45440, 13904)\t1.0\n",
      "  (45441, 14058)\t1.0\n",
      "  (45442, 17802)\t0.6755735113500229\n",
      "  (45442, 13587)\t0.5250754096891398\n",
      "  (45442, 19816)\t0.5175869442924373\n",
      "  (45443, 9938)\t0.8373810853074215\n",
      "  (45443, 9987)\t0.5466195367615073\n",
      "  (45444, 2549)\t0.6618777807732223\n",
      "  (45444, 23038)\t0.542230260084183\n",
      "  (45444, 18736)\t0.5175945791522102\n",
      "  (45445, 3283)\t1.0\n",
      "  (45446, 3408)\t0.6251304228947915\n",
      "  (45446, 215)\t0.5888038322127754\n",
      "  (45446, 9508)\t0.5123690091554415\n",
      "  (45447, 17673)\t0.7086339325265967\n",
      "  (45447, 9891)\t0.7055763244836741\n",
      "  (45448, 2483)\t0.7970885753808956\n",
      "  (45448, 3856)\t0.6038624040269889\n",
      "  (45449, 2339)\t1.0\n",
      "  (45450, 21552)\t0.7841980338826692\n",
      "  (45450, 18254)\t0.6205106313791537\n",
      "  (45451, 16867)\t1.0\n"
     ]
    }
   ],
   "source": [
    "# Vectorización\n",
    "tfidf = TfidfVectorizer(stop_words='english')\n",
    "tfidf_matrix = tfidf.fit_transform(df_ml['title_processed'])\n",
    "print(tfidf_matrix)"
   ]
  },
  {
   "cell_type": "code",
   "execution_count": 17,
   "metadata": {},
   "outputs": [
    {
     "name": "stdout",
     "output_type": "stream",
     "text": [
      "       belongs_to_collection      budget                      genres      id  \\\n",
      "0                    10194.0  30000000.0   Animation, Comedy, Family     862   \n",
      "1                        NaN  65000000.0  Adventure, Fantasy, Family    8844   \n",
      "2                   119050.0         0.0             Romance, Comedy   15602   \n",
      "3                        NaN  16000000.0      Comedy, Drama, Romance   31357   \n",
      "4                    96871.0         0.0                      Comedy   11862   \n",
      "...                      ...         ...                         ...     ...   \n",
      "45447                    NaN         0.0      Drama, Action, Romance   30840   \n",
      "45448                    NaN         0.0                       Drama  111109   \n",
      "45449                    NaN         0.0     Action, Drama, Thriller   67758   \n",
      "45450                    NaN         0.0                         NaN  227506   \n",
      "45451                    NaN         0.0                         NaN  461257   \n",
      "\n",
      "      original_language                                           overview  \\\n",
      "0                    en  Led by Woody, Andy's toys live happily in his ...   \n",
      "1                    en  When siblings Judy and Peter discover an encha...   \n",
      "2                    en  A family wedding reignites the ancient feud be...   \n",
      "3                    en  Cheated on, mistreated and stepped on, the wom...   \n",
      "4                    en  Just when George Banks has recovered from his ...   \n",
      "...                 ...                                                ...   \n",
      "45447                en  Yet another version of the classic epic, with ...   \n",
      "45448                tl  An artist struggles to finish his work while a...   \n",
      "45449                en  When one of her hits goes wrong, a professiona...   \n",
      "45450                en  In a small town live two brothers, one a minis...   \n",
      "45451                en  50 years after decriminalisation of homosexual...   \n",
      "\n",
      "       popularity                               production_companies  \\\n",
      "0       21.946943                            Pixar Animation Studios   \n",
      "1       17.015539  TriStar Pictures, Teitler Film, Interscope Com...   \n",
      "2       11.712900                       Warner Bros., Lancaster Gate   \n",
      "3        3.859495             Twentieth Century Fox Film Corporation   \n",
      "4        8.387519         Sandollar Productions, Touchstone Pictures   \n",
      "...           ...                                                ...   \n",
      "45447    5.683753  Westdeutscher Rundfunk (WDR), Working Title Fi...   \n",
      "45448    0.178241                                        Sine Olivia   \n",
      "45449    0.903007                            American World Pictures   \n",
      "45450    0.003503                                          Yermoliev   \n",
      "45451    0.163015                                                NaN   \n",
      "\n",
      "      production_countries release_date  ...    status  \\\n",
      "0                       US   1995-10-30  ...  Released   \n",
      "1                       US   1995-12-15  ...  Released   \n",
      "2                       US   1995-12-22  ...  Released   \n",
      "3                       US   1995-12-22  ...  Released   \n",
      "4                       US   1995-02-10  ...  Released   \n",
      "...                    ...          ...  ...       ...   \n",
      "45447       CA, DE, GB, US   1991-05-13  ...  Released   \n",
      "45448                   PH   2011-11-17  ...  Released   \n",
      "45449                   US   2003-08-01  ...  Released   \n",
      "45450                   RU   1917-10-21  ...  Released   \n",
      "45451                   GB   2017-06-09  ...  Released   \n",
      "\n",
      "                                                 tagline  \\\n",
      "0                                                    NaN   \n",
      "1              Roll the dice and unleash the excitement!   \n",
      "2      Still Yelling. Still Fighting. Still Ready for...   \n",
      "3      Friends are the people who let you be yourself...   \n",
      "4      Just When His World Is Back To Normal... He's ...   \n",
      "...                                                  ...   \n",
      "45447                                                NaN   \n",
      "45448                                                NaN   \n",
      "45449                             A deadly game of wits.   \n",
      "45450                                                NaN   \n",
      "45451                                                NaN   \n",
      "\n",
      "                             title vote_average vote_count  \\\n",
      "0                        Toy Story          7.7     5415.0   \n",
      "1                          Jumanji          6.9     2413.0   \n",
      "2                 Grumpier Old Men          6.5       92.0   \n",
      "3                Waiting to Exhale          6.1       34.0   \n",
      "4      Father of the Bride Part II          5.7      173.0   \n",
      "...                            ...          ...        ...   \n",
      "45447                   Robin Hood          5.7       26.0   \n",
      "45448          Century of Birthing          9.0        3.0   \n",
      "45449                     Betrayal          3.8        6.0   \n",
      "45450             Satan Triumphant          0.0        0.0   \n",
      "45451                     Queerama          0.0        0.0   \n",
      "\n",
      "                                                  actors         directors  \\\n",
      "0      Tom Hanks, Tim Allen, Don Rickles, Jim Varney,...     John Lasseter   \n",
      "1      Robin Williams, Jonathan Hyde, Kirsten Dunst, ...      Joe Johnston   \n",
      "2      Walter Matthau, Jack Lemmon, Ann-Margret, Soph...     Howard Deutch   \n",
      "3      Whitney Houston, Angela Bassett, Loretta Devin...   Forest Whitaker   \n",
      "4      Steve Martin, Diane Keaton, Martin Short, Kimb...     Charles Shyer   \n",
      "...                                                  ...               ...   \n",
      "45447  Patrick Bergin, Uma Thurman, David Morrissey, ...        John Irvin   \n",
      "45448  Angel Aquino, Perry Dizon, Hazel Orencio, Joel...          Lav Diaz   \n",
      "45449  Erika Eleniak, Adam Baldwin, Julie du Page, Ja...    Mark L. Lester   \n",
      "45450  Iwan Mosschuchin, Nathalie Lissenko, Pavel Pav...  Yakov Protazanov   \n",
      "45451                                                NaN     Daisy Asquith   \n",
      "\n",
      "       release_year     return       title_processed  \n",
      "0              1995  12.451801             toy story  \n",
      "1              1995   4.043035               jumanji  \n",
      "2              1995   0.000000      grumpier old men  \n",
      "3              1995   5.090760        waiting exhale  \n",
      "4              1995   0.000000  father bride part ii  \n",
      "...             ...        ...                   ...  \n",
      "45447          1991   0.000000            robin hood  \n",
      "45448          2011   0.000000      century birthing  \n",
      "45449          2003   0.000000              betrayal  \n",
      "45450          1917   0.000000      satan triumphant  \n",
      "45451          2017   0.000000              queerama  \n",
      "\n",
      "[45452 rows x 23 columns]\n"
     ]
    },
    {
     "data": {
      "text/plain": [
       "['tfidf_matrix.joblib']"
      ]
     },
     "execution_count": 17,
     "metadata": {},
     "output_type": "execute_result"
    }
   ],
   "source": [
    "# Guardamos el DataFrame y el modelo entrenado\n",
    "df_ml.to_csv('../Dataset_MVP/dataframe_ml.csv', index=False)\n",
    "print(df_ml)\n",
    "joblib.dump(tfidf, 'tfidf_vectorizer.joblib')\n",
    "joblib.dump(tfidf_matrix, 'tfidf_matrix.joblib')    \n"
   ]
  }
 ],
 "metadata": {
  "kernelspec": {
   "display_name": "entornoData",
   "language": "python",
   "name": "python3"
  },
  "language_info": {
   "codemirror_mode": {
    "name": "ipython",
    "version": 3
   },
   "file_extension": ".py",
   "mimetype": "text/x-python",
   "name": "python",
   "nbconvert_exporter": "python",
   "pygments_lexer": "ipython3",
   "version": "3.12.4"
  }
 },
 "nbformat": 4,
 "nbformat_minor": 2
}
